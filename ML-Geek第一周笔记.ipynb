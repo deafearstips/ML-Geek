{
  "nbformat": 4,
  "nbformat_minor": 0,
  "metadata": {
    "colab": {
      "name": "Untitled0.ipynb",
      "provenance": [],
      "collapsed_sections": [],
      "authorship_tag": "ABX9TyMNgub4SI6L3lvwwRfwGn2u",
      "include_colab_link": true
    },
    "kernelspec": {
      "name": "python3",
      "display_name": "Python 3"
    }
  },
  "cells": [
    {
      "cell_type": "markdown",
      "metadata": {
        "id": "view-in-github",
        "colab_type": "text"
      },
      "source": [
        "<a href=\"https://colab.research.google.com/github/deafearstips/ML-Geek/blob/main/ML-Geek%E7%AC%AC%E4%B8%80%E5%91%A8%E7%AC%94%E8%AE%B0.ipynb\" target=\"_parent\"><img src=\"https://colab.research.google.com/assets/colab-badge.svg\" alt=\"Open In Colab\"/></a>"
      ]
    },
    {
      "cell_type": "markdown",
      "metadata": {
        "id": "bN6mQcByuBdu"
      },
      "source": [
        "第一章 \r\n",
        "\r\n",
        "环境配置：\r\n",
        "需要C环境；Anaconda；R；Docker 和NVIDA Docker \r\n",
        "build-essentail  ：  ubuntu虚拟机：sudo apt-get install build-essential\r\n",
        "gcc -version\r\n",
        "源码编译：Cmake下载  编译环境： ./bootstrap  make -j4  \r\n",
        "安装： sudo make install\r\n",
        "\r\n",
        "conda: source /.bashrc 命令修改环境变量\r\n",
        "建议安装miniconda，后续采用pip安装其他包\r\n",
        "采用python 3.7（ Pytorch等支持情况），conda install python = 3.7\r\n",
        "安装  **cuml**\r\n",
        "\r\n",
        "在python环境中安装R： conda install r-base\r\n",
        "\r\n",
        "Docker安装：Docker可理解为轻量级可公用的虚拟机。微服务\r\n",
        "docker pull -- docker镜像\r\n",
        "docker run -it --rm --gpus all -v ... -p 8888:8888 awesome_image:lastest  # -v 将本地文件映射到docker, -p为端口映射\r\n",
        "\r\n",
        "nvida-docker映射： 显卡驱动：N卡（A卡不行?）\r\n",
        "\r\n",
        "CUDA安装：  用runfile安装\r\n",
        "sudo sh cuda_11.2._linux.run  --no-opengl-libs  安装时不能用图形化界面\r\n",
        "\r\n",
        "IDE：pycharm  debug技能"
      ]
    },
    {
      "cell_type": "code",
      "metadata": {
        "id": "Qzsdglnt2LA-"
      },
      "source": [
        ""
      ],
      "execution_count": null,
      "outputs": []
    }
  ]
}