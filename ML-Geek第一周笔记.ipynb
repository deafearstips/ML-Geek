{
  "nbformat": 4,
  "nbformat_minor": 0,
  "metadata": {
    "colab": {
      "name": "Untitled0.ipynb",
      "provenance": [],
      "collapsed_sections": [],
      "authorship_tag": "ABX9TyNZ5uJdFP9MqWjDcVfUyigc",
      "include_colab_link": true
    },
    "kernelspec": {
      "name": "python3",
      "display_name": "Python 3"
    }
  },
  "cells": [
    {
      "cell_type": "markdown",
      "metadata": {
        "id": "view-in-github",
        "colab_type": "text"
      },
      "source": [
        "<a href=\"https://colab.research.google.com/github/deafearstips/ML-Geek/blob/main/ML-Geek%E7%AC%AC%E4%B8%80%E5%91%A8%E7%AC%94%E8%AE%B0.ipynb\" target=\"_parent\"><img src=\"https://colab.research.google.com/assets/colab-badge.svg\" alt=\"Open In Colab\"/></a>"
      ]
    },
    {
      "cell_type": "markdown",
      "metadata": {
        "id": "bN6mQcByuBdu"
      },
      "source": [
        "第一章 \r\n",
        "\r\n",
        "环境配置：\r\n",
        "需要C环境；Anaconda；R；Docker 和NVIDA Docker \r\n",
        "build-essentail  ：  ubuntu虚拟机：sudo apt-get install build-essential\r\n",
        "gcc -version\r\n",
        "源码编译：Cmake下载  编译环境： ./bootstrap  make -j4  \r\n",
        "安装： sudo make install\r\n",
        "\r\n",
        "conda: source /.bashrc 命令修改环境变量\r\n",
        "建议安装miniconda，后续采用pip安装其他包\r\n",
        "采用python 3.7（ Pytorch等支持情况），conda install python = 3.7\r\n",
        "安装  **cuml**\r\n",
        "\r\n",
        "在python环境中安装R： conda install r-base\r\n",
        "\r\n",
        "Docker安装：Docker可理解为轻量级可公用的虚拟机。微服务\r\n",
        "docker pull -- docker镜像\r\n",
        "docker run -it --rm --gpus all -v ... -p 8888:8888 awesome_image:lastest  # -v 将本地文件映射到docker, -p为端口映射\r\n",
        "\r\n",
        "nvida-docker映射： 显卡驱动：N卡（A卡不行?）\r\n",
        "\r\n",
        "CUDA安装：  用runfile安装\r\n",
        "sudo sh cuda_11.2._linux.run  --no-opengl-libs  安装时不能用图形化界面\r\n",
        "\r\n",
        "IDE：pycharm  debug技能"
      ]
    },
    {
      "cell_type": "markdown",
      "metadata": {
        "id": "jkYBXTEQyCMr"
      },
      "source": [
        "Define Functions: 参数 *args,**kwargs"
      ]
    },
    {
      "cell_type": "code",
      "metadata": {
        "id": "Qzsdglnt2LA-"
      },
      "source": [
        "def myfunc(a:float, *args, **kwargs) -> str:\r\n",
        "  return str(a)"
      ],
      "execution_count": 1,
      "outputs": []
    },
    {
      "cell_type": "code",
      "metadata": {
        "colab": {
          "base_uri": "https://localhost:8080/"
        },
        "id": "OhAhiN6pwt6U",
        "outputId": "22e7aa6b-7c25-4c75-c6f1-a71481d639ac"
      },
      "source": [
        "import numpy as np\r\n",
        "x = np.array([1,1])\r\n",
        "myfunc(x)\r\n",
        "print(x)"
      ],
      "execution_count": 3,
      "outputs": [
        {
          "output_type": "stream",
          "text": [
            "[1 1]\n"
          ],
          "name": "stdout"
        }
      ]
    },
    {
      "cell_type": "code",
      "metadata": {
        "id": "HvlpQGZexXD-"
      },
      "source": [
        "def my_sum(*args):\r\n",
        "  result = 0\r\n",
        "  for x in args:\r\n",
        "    result += x\r\n",
        "  return result"
      ],
      "execution_count": 4,
      "outputs": []
    },
    {
      "cell_type": "code",
      "metadata": {
        "id": "pcjq5pHKxkZF"
      },
      "source": [
        "# my_concat( x =\"a\", y = \"b\")"
      ],
      "execution_count": null,
      "outputs": []
    },
    {
      "cell_type": "markdown",
      "metadata": {
        "id": "p0L0MEGMyXbB"
      },
      "source": [
        "Exception Handling:\r\n",
        "raise 优劣势： 优势：抛出异常处理；劣势： 外层都需要处理exception"
      ]
    },
    {
      "cell_type": "code",
      "metadata": {
        "id": "JSwoZ-rxyV-9"
      },
      "source": [
        "def raise_exception(x):\r\n",
        "  raise Exception(\"I am an Exception!!!\")\r\n",
        "\r\n",
        "def catcher(x):\r\n",
        "  try:\r\n",
        "    raise_exception(x)\r\n",
        "  except (TypeError,NameError):\r\n",
        "    print(\"I am ok with this!\")\r\n",
        "  except Exception as e:\r\n",
        "    raise e\r\n",
        "  finally:\r\n",
        "    print(\"Let us swallow everything when exception occurs!\")"
      ],
      "execution_count": 6,
      "outputs": []
    },
    {
      "cell_type": "code",
      "metadata": {
        "colab": {
          "base_uri": "https://localhost:8080/",
          "height": 325
        },
        "id": "mmQ0n4ruz9X2",
        "outputId": "859ed9a4-ad39-4007-9640-4a1b6ce24aa7"
      },
      "source": [
        "catcher(1)"
      ],
      "execution_count": 7,
      "outputs": [
        {
          "output_type": "stream",
          "text": [
            "Let us swallow everything when exception occurs!\n"
          ],
          "name": "stdout"
        },
        {
          "output_type": "error",
          "ename": "Exception",
          "evalue": "ignored",
          "traceback": [
            "\u001b[0;31m---------------------------------------------------------------------------\u001b[0m",
            "\u001b[0;31mException\u001b[0m                                 Traceback (most recent call last)",
            "\u001b[0;32m<ipython-input-7-187b7f8ca604>\u001b[0m in \u001b[0;36m<module>\u001b[0;34m()\u001b[0m\n\u001b[0;32m----> 1\u001b[0;31m \u001b[0mcatcher\u001b[0m\u001b[0;34m(\u001b[0m\u001b[0;36m1\u001b[0m\u001b[0;34m)\u001b[0m\u001b[0;34m\u001b[0m\u001b[0;34m\u001b[0m\u001b[0m\n\u001b[0m",
            "\u001b[0;32m<ipython-input-6-53b14c3f06e3>\u001b[0m in \u001b[0;36mcatcher\u001b[0;34m(x)\u001b[0m\n\u001b[1;32m      8\u001b[0m     \u001b[0mprint\u001b[0m\u001b[0;34m(\u001b[0m\u001b[0;34m\"I am ok with this!\"\u001b[0m\u001b[0;34m)\u001b[0m\u001b[0;34m\u001b[0m\u001b[0;34m\u001b[0m\u001b[0m\n\u001b[1;32m      9\u001b[0m   \u001b[0;32mexcept\u001b[0m \u001b[0mException\u001b[0m \u001b[0;32mas\u001b[0m \u001b[0me\u001b[0m\u001b[0;34m:\u001b[0m\u001b[0;34m\u001b[0m\u001b[0;34m\u001b[0m\u001b[0m\n\u001b[0;32m---> 10\u001b[0;31m     \u001b[0;32mraise\u001b[0m \u001b[0me\u001b[0m\u001b[0;34m\u001b[0m\u001b[0;34m\u001b[0m\u001b[0m\n\u001b[0m\u001b[1;32m     11\u001b[0m   \u001b[0;32mfinally\u001b[0m\u001b[0;34m:\u001b[0m\u001b[0;34m\u001b[0m\u001b[0;34m\u001b[0m\u001b[0m\n\u001b[1;32m     12\u001b[0m     \u001b[0mprint\u001b[0m\u001b[0;34m(\u001b[0m\u001b[0;34m\"Let us swallow everything when exception occurs!\"\u001b[0m\u001b[0;34m)\u001b[0m\u001b[0;34m\u001b[0m\u001b[0;34m\u001b[0m\u001b[0m\n",
            "\u001b[0;32m<ipython-input-6-53b14c3f06e3>\u001b[0m in \u001b[0;36mcatcher\u001b[0;34m(x)\u001b[0m\n\u001b[1;32m      4\u001b[0m \u001b[0;32mdef\u001b[0m \u001b[0mcatcher\u001b[0m\u001b[0;34m(\u001b[0m\u001b[0mx\u001b[0m\u001b[0;34m)\u001b[0m\u001b[0;34m:\u001b[0m\u001b[0;34m\u001b[0m\u001b[0;34m\u001b[0m\u001b[0m\n\u001b[1;32m      5\u001b[0m   \u001b[0;32mtry\u001b[0m\u001b[0;34m:\u001b[0m\u001b[0;34m\u001b[0m\u001b[0;34m\u001b[0m\u001b[0m\n\u001b[0;32m----> 6\u001b[0;31m     \u001b[0mraise_exception\u001b[0m\u001b[0;34m(\u001b[0m\u001b[0mx\u001b[0m\u001b[0;34m)\u001b[0m\u001b[0;34m\u001b[0m\u001b[0;34m\u001b[0m\u001b[0m\n\u001b[0m\u001b[1;32m      7\u001b[0m   \u001b[0;32mexcept\u001b[0m \u001b[0;34m(\u001b[0m\u001b[0mTypeError\u001b[0m\u001b[0;34m,\u001b[0m\u001b[0mNameError\u001b[0m\u001b[0;34m)\u001b[0m\u001b[0;34m:\u001b[0m\u001b[0;34m\u001b[0m\u001b[0;34m\u001b[0m\u001b[0m\n\u001b[1;32m      8\u001b[0m     \u001b[0mprint\u001b[0m\u001b[0;34m(\u001b[0m\u001b[0;34m\"I am ok with this!\"\u001b[0m\u001b[0;34m)\u001b[0m\u001b[0;34m\u001b[0m\u001b[0;34m\u001b[0m\u001b[0m\n",
            "\u001b[0;32m<ipython-input-6-53b14c3f06e3>\u001b[0m in \u001b[0;36mraise_exception\u001b[0;34m(x)\u001b[0m\n\u001b[1;32m      1\u001b[0m \u001b[0;32mdef\u001b[0m \u001b[0mraise_exception\u001b[0m\u001b[0;34m(\u001b[0m\u001b[0mx\u001b[0m\u001b[0;34m)\u001b[0m\u001b[0;34m:\u001b[0m\u001b[0;34m\u001b[0m\u001b[0;34m\u001b[0m\u001b[0m\n\u001b[0;32m----> 2\u001b[0;31m   \u001b[0;32mraise\u001b[0m \u001b[0mException\u001b[0m\u001b[0;34m(\u001b[0m\u001b[0;34m\"I am an Exception!!!\"\u001b[0m\u001b[0;34m)\u001b[0m\u001b[0;34m\u001b[0m\u001b[0;34m\u001b[0m\u001b[0m\n\u001b[0m\u001b[1;32m      3\u001b[0m \u001b[0;34m\u001b[0m\u001b[0m\n\u001b[1;32m      4\u001b[0m \u001b[0;32mdef\u001b[0m \u001b[0mcatcher\u001b[0m\u001b[0;34m(\u001b[0m\u001b[0mx\u001b[0m\u001b[0;34m)\u001b[0m\u001b[0;34m:\u001b[0m\u001b[0;34m\u001b[0m\u001b[0;34m\u001b[0m\u001b[0m\n\u001b[1;32m      5\u001b[0m   \u001b[0;32mtry\u001b[0m\u001b[0;34m:\u001b[0m\u001b[0;34m\u001b[0m\u001b[0;34m\u001b[0m\u001b[0m\n",
            "\u001b[0;31mException\u001b[0m: I am an Exception!!!"
          ]
        }
      ]
    },
    {
      "cell_type": "markdown",
      "metadata": {
        "id": "pxJwIAJn3L6p"
      },
      "source": [
        "logging模块：\r\n",
        "默认生成的root logger的level是logging.WARNING,低于该级别的就不输出了\r\n",
        "\r\n",
        "级别排序:CRITICAL > ERROR > WARNING > INFO > DEBUG\r\n",
        "debug : 打印全部的日志,详细的信息,通常只出现在诊断问题上\r\n",
        "\r\n",
        "info : 打印info,warning,error,critical级别的日志,确认一切按预期运行\r\n",
        "\r\n",
        "warning : 打印warning,error,critical级别的日志,一个迹象表明,一些意想不到的事情发生了,或表明一些问题在不久的将来(例如。磁盘空间低”),这个软件还能按预期工作\r\n",
        "\r\n",
        "error : 打印error,critical级别的日志,更严重的问题,软件没能执行一些功能\r\n",
        "\r\n",
        "critical : 打印critical级别,一个严重的错误,这表明程序本身可能无法继续运行\r\n",
        "\r\n",
        "这时候，如果需要显示低于WARNING级别的内容，可以引入NOTSET级别来显示：\r\n",
        "\r\n",
        "import logging  # 引入logging模块\r\n",
        "logging.basicConfig(level=logging.NOTSET)  # 设置日志级别\r\n",
        "logging.debug(u\"如果设置了日志级别为NOTSET,那么这里可以采取debug、info的级别的内容也可以显示在控制台上了\")"
      ]
    },
    {
      "cell_type": "code",
      "metadata": {
        "colab": {
          "base_uri": "https://localhost:8080/"
        },
        "id": "6N1G0cbJ07Ti",
        "outputId": "151b4057-c359-4899-e9c9-fa1481ced692"
      },
      "source": [
        "import logging\r\n",
        "logging.info(\"This is some useful information.\")\r\n",
        "logging.warning(\"This is some warning!\")\r\n",
        "logging.error(\"Something went wrong!\")"
      ],
      "execution_count": 8,
      "outputs": [
        {
          "output_type": "stream",
          "text": [
            "WARNING:root:This is some warning!\n",
            "ERROR:root:Something went wrong!\n"
          ],
          "name": "stderr"
        }
      ]
    },
    {
      "cell_type": "markdown",
      "metadata": {
        "id": "PBks_Ws84S-k"
      },
      "source": [
        "Python Class："
      ]
    },
    {
      "cell_type": "code",
      "metadata": {
        "id": "cQatZz1I3iJ_"
      },
      "source": [
        "class MyClass(object):\r\n",
        "  def __init__(self, x):\r\n",
        "    self.x = x\r\n",
        "  def __del__(self): # Warning: Perhaps a very bad idea!\r\n",
        "    print(\"I am gone\")\r\n"
      ],
      "execution_count": 17,
      "outputs": []
    },
    {
      "cell_type": "code",
      "metadata": {
        "id": "JPuaDIUs40Mf"
      },
      "source": [
        "my_class = MyClass(1)"
      ],
      "execution_count": 13,
      "outputs": []
    },
    {
      "cell_type": "code",
      "metadata": {
        "id": "aaXcfc7G460_"
      },
      "source": [
        "del my_class"
      ],
      "execution_count": 15,
      "outputs": []
    },
    {
      "cell_type": "code",
      "metadata": {
        "colab": {
          "base_uri": "https://localhost:8080/",
          "height": 165
        },
        "id": "fr1Mvxch5Fiu",
        "outputId": "fe863db1-a589-4ae2-df55-a392a59e93b3"
      },
      "source": [
        "my_class"
      ],
      "execution_count": 16,
      "outputs": [
        {
          "output_type": "error",
          "ename": "NameError",
          "evalue": "ignored",
          "traceback": [
            "\u001b[0;31m---------------------------------------------------------------------------\u001b[0m",
            "\u001b[0;31mNameError\u001b[0m                                 Traceback (most recent call last)",
            "\u001b[0;32m<ipython-input-16-3528c0db2c60>\u001b[0m in \u001b[0;36m<module>\u001b[0;34m()\u001b[0m\n\u001b[0;32m----> 1\u001b[0;31m \u001b[0mmy_class\u001b[0m\u001b[0;34m\u001b[0m\u001b[0;34m\u001b[0m\u001b[0m\n\u001b[0m",
            "\u001b[0;31mNameError\u001b[0m: name 'my_class' is not defined"
          ]
        }
      ]
    },
    {
      "cell_type": "code",
      "metadata": {
        "colab": {
          "base_uri": "https://localhost:8080/"
        },
        "id": "5QxJVBOL5bxB",
        "outputId": "57a29f52-88dc-4921-ce66-6d76cc45019f"
      },
      "source": [
        "my_class_a = MyClass(1)\r\n",
        "#my_class_b = my_class_a\r\n",
        "#my_class_c = MyClass(1)"
      ],
      "execution_count": 26,
      "outputs": [
        {
          "output_type": "stream",
          "text": [
            "I am gone\n"
          ],
          "name": "stdout"
        }
      ]
    },
    {
      "cell_type": "code",
      "metadata": {
        "colab": {
          "base_uri": "https://localhost:8080/"
        },
        "id": "m_0oMOrq5pjU",
        "outputId": "876b2ae5-b23a-4ed6-8b7e-831ff764ba4b"
      },
      "source": [
        "my_class_b.x = 2\r\n",
        "print(my_class_a.x)   # python = 为 对象引用"
      ],
      "execution_count": 20,
      "outputs": [
        {
          "output_type": "stream",
          "text": [
            "2\n"
          ],
          "name": "stdout"
        }
      ]
    },
    {
      "cell_type": "code",
      "metadata": {
        "colab": {
          "base_uri": "https://localhost:8080/"
        },
        "id": "Rftt7wGs6E_d",
        "outputId": "7bed5e54-bf5e-4c5e-e049-ca0f28cc4a5b"
      },
      "source": [
        "my_class_b == my_class_a"
      ],
      "execution_count": 21,
      "outputs": [
        {
          "output_type": "execute_result",
          "data": {
            "text/plain": [
              "True"
            ]
          },
          "metadata": {
            "tags": []
          },
          "execution_count": 21
        }
      ]
    },
    {
      "cell_type": "code",
      "metadata": {
        "colab": {
          "base_uri": "https://localhost:8080/"
        },
        "id": "JIeJn-YK6ONK",
        "outputId": "9228be00-537d-4c9c-92e1-65180b86a559"
      },
      "source": [
        "#my_class_a = MyClass(1)\r\n",
        "my_class_c = MyClass(1)     #  为什么每一个赋值都会输出 I am gone\r\n",
        "#my_class_a == my_class_c"
      ],
      "execution_count": 25,
      "outputs": [
        {
          "output_type": "stream",
          "text": [
            "I am gone\n"
          ],
          "name": "stdout"
        }
      ]
    }
  ]
}