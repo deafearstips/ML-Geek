{
  "nbformat": 4,
  "nbformat_minor": 0,
  "metadata": {
    "colab": {
      "name": "“Untitled0.ipynb”的副本",
      "provenance": [],
      "collapsed_sections": [],
      "authorship_tag": "ABX9TyM8PK8zm0O622AVJjfQWf6l",
      "include_colab_link": true
    },
    "kernelspec": {
      "name": "python3",
      "display_name": "Python 3"
    }
  },
  "cells": [
    {
      "cell_type": "markdown",
      "metadata": {
        "id": "view-in-github",
        "colab_type": "text"
      },
      "source": [
        "<a href=\"https://colab.research.google.com/github/deafearstips/ML-Geek/blob/main/ML-Geek%E7%AC%AC%E4%B8%80%E5%91%A8%E7%AC%94%E8%AE%B0.ipynb\" target=\"_parent\"><img src=\"https://colab.research.google.com/assets/colab-badge.svg\" alt=\"Open In Colab\"/></a>"
      ]
    },
    {
      "cell_type": "markdown",
      "metadata": {
        "id": "bN6mQcByuBdu"
      },
      "source": [
        "第一章 \r\n",
        "\r\n",
        "环境配置：\r\n",
        "需要C环境；Anaconda；R；Docker 和NVIDA Docker \r\n",
        "build-essentail  ：  ubuntu虚拟机：sudo apt-get install build-essential\r\n",
        "gcc -version\r\n",
        "源码编译：Cmake下载  编译环境： ./bootstrap  make -j4  \r\n",
        "安装： sudo make install\r\n",
        "\r\n",
        "conda: source /.bashrc 命令修改环境变量\r\n",
        "建议安装miniconda，后续采用pip安装其他包\r\n",
        "采用python 3.7（ Pytorch等支持情况），conda install python = 3.7\r\n",
        "安装  **cuml**\r\n",
        "\r\n",
        "在python环境中安装R： conda install r-base\r\n",
        "\r\n",
        "Docker安装：Docker可理解为轻量级可公用的虚拟机。微服务\r\n",
        "docker pull -- docker镜像\r\n",
        "docker run -it --rm --gpus all -v ... -p 8888:8888 awesome_image:lastest  # -v 将本地文件映射到docker, -p为端口映射\r\n",
        "\r\n",
        "nvida-docker映射： 显卡驱动：N卡（A卡不行?）\r\n",
        "\r\n",
        "CUDA安装：  用runfile安装\r\n",
        "sudo sh cuda_11.2._linux.run  --no-opengl-libs  安装时不能用图形化界面\r\n",
        "\r\n",
        "IDE：pycharm  debug技能"
      ]
    },
    {
      "cell_type": "markdown",
      "metadata": {
        "id": "jkYBXTEQyCMr"
      },
      "source": [
        "Define Functions: 参数 *args,**kwargs"
      ]
    },
    {
      "cell_type": "code",
      "metadata": {
        "id": "Qzsdglnt2LA-"
      },
      "source": [
        "def myfunc(a:float, *args, **kwargs) -> str:\r\n",
        "  return str(a)"
      ],
      "execution_count": null,
      "outputs": []
    },
    {
      "cell_type": "code",
      "metadata": {
        "colab": {
          "base_uri": "https://localhost:8080/"
        },
        "id": "OhAhiN6pwt6U",
        "outputId": "57f41bc3-8315-4fa6-aeb1-1a6de91de5eb"
      },
      "source": [
        "import numpy as np\r\n",
        "x = np.array([1,1])\r\n",
        "myfunc(x)\r\n",
        "print(x)"
      ],
      "execution_count": null,
      "outputs": [
        {
          "output_type": "stream",
          "text": [
            "[1 1]\n"
          ],
          "name": "stdout"
        }
      ]
    },
    {
      "cell_type": "code",
      "metadata": {
        "id": "HvlpQGZexXD-"
      },
      "source": [
        "def my_sum(*args):\r\n",
        "  result = 0\r\n",
        "  for x in args:\r\n",
        "    result += x\r\n",
        "  return result"
      ],
      "execution_count": null,
      "outputs": []
    },
    {
      "cell_type": "code",
      "metadata": {
        "id": "pcjq5pHKxkZF"
      },
      "source": [
        "# my_concat( x =\"a\", y = \"b\")"
      ],
      "execution_count": null,
      "outputs": []
    },
    {
      "cell_type": "markdown",
      "metadata": {
        "id": "p0L0MEGMyXbB"
      },
      "source": [
        "Exception Handling:\r\n",
        "raise 优劣势： 优势：抛出异常处理；劣势： 外层都需要处理exception"
      ]
    },
    {
      "cell_type": "code",
      "metadata": {
        "id": "JSwoZ-rxyV-9"
      },
      "source": [
        "def raise_exception(x):\r\n",
        "  raise Exception(\"I am an Exception!!!\")\r\n",
        "\r\n",
        "def catcher(x):\r\n",
        "  try:\r\n",
        "    raise_exception(x)\r\n",
        "  except (TypeError,NameError):\r\n",
        "    print(\"I am ok with this!\")\r\n",
        "  except Exception as e:\r\n",
        "    raise e\r\n",
        "  finally:\r\n",
        "    print(\"Let us swallow everything when exception occurs!\")"
      ],
      "execution_count": null,
      "outputs": []
    },
    {
      "cell_type": "code",
      "metadata": {
        "id": "mmQ0n4ruz9X2",
        "colab": {
          "base_uri": "https://localhost:8080/",
          "height": 325
        },
        "outputId": "416b446b-912a-489e-ab66-6c25e1686f91"
      },
      "source": [
        "catcher(1)"
      ],
      "execution_count": null,
      "outputs": [
        {
          "output_type": "stream",
          "text": [
            "Let us swallow everything when exception occurs!\n"
          ],
          "name": "stdout"
        },
        {
          "output_type": "error",
          "ename": "Exception",
          "evalue": "ignored",
          "traceback": [
            "\u001b[0;31m---------------------------------------------------------------------------\u001b[0m",
            "\u001b[0;31mException\u001b[0m                                 Traceback (most recent call last)",
            "\u001b[0;32m<ipython-input-6-187b7f8ca604>\u001b[0m in \u001b[0;36m<module>\u001b[0;34m()\u001b[0m\n\u001b[0;32m----> 1\u001b[0;31m \u001b[0mcatcher\u001b[0m\u001b[0;34m(\u001b[0m\u001b[0;36m1\u001b[0m\u001b[0;34m)\u001b[0m\u001b[0;34m\u001b[0m\u001b[0;34m\u001b[0m\u001b[0m\n\u001b[0m",
            "\u001b[0;32m<ipython-input-5-53b14c3f06e3>\u001b[0m in \u001b[0;36mcatcher\u001b[0;34m(x)\u001b[0m\n\u001b[1;32m      8\u001b[0m     \u001b[0mprint\u001b[0m\u001b[0;34m(\u001b[0m\u001b[0;34m\"I am ok with this!\"\u001b[0m\u001b[0;34m)\u001b[0m\u001b[0;34m\u001b[0m\u001b[0;34m\u001b[0m\u001b[0m\n\u001b[1;32m      9\u001b[0m   \u001b[0;32mexcept\u001b[0m \u001b[0mException\u001b[0m \u001b[0;32mas\u001b[0m \u001b[0me\u001b[0m\u001b[0;34m:\u001b[0m\u001b[0;34m\u001b[0m\u001b[0;34m\u001b[0m\u001b[0m\n\u001b[0;32m---> 10\u001b[0;31m     \u001b[0;32mraise\u001b[0m \u001b[0me\u001b[0m\u001b[0;34m\u001b[0m\u001b[0;34m\u001b[0m\u001b[0m\n\u001b[0m\u001b[1;32m     11\u001b[0m   \u001b[0;32mfinally\u001b[0m\u001b[0;34m:\u001b[0m\u001b[0;34m\u001b[0m\u001b[0;34m\u001b[0m\u001b[0m\n\u001b[1;32m     12\u001b[0m     \u001b[0mprint\u001b[0m\u001b[0;34m(\u001b[0m\u001b[0;34m\"Let us swallow everything when exception occurs!\"\u001b[0m\u001b[0;34m)\u001b[0m\u001b[0;34m\u001b[0m\u001b[0;34m\u001b[0m\u001b[0m\n",
            "\u001b[0;32m<ipython-input-5-53b14c3f06e3>\u001b[0m in \u001b[0;36mcatcher\u001b[0;34m(x)\u001b[0m\n\u001b[1;32m      4\u001b[0m \u001b[0;32mdef\u001b[0m \u001b[0mcatcher\u001b[0m\u001b[0;34m(\u001b[0m\u001b[0mx\u001b[0m\u001b[0;34m)\u001b[0m\u001b[0;34m:\u001b[0m\u001b[0;34m\u001b[0m\u001b[0;34m\u001b[0m\u001b[0m\n\u001b[1;32m      5\u001b[0m   \u001b[0;32mtry\u001b[0m\u001b[0;34m:\u001b[0m\u001b[0;34m\u001b[0m\u001b[0;34m\u001b[0m\u001b[0m\n\u001b[0;32m----> 6\u001b[0;31m     \u001b[0mraise_exception\u001b[0m\u001b[0;34m(\u001b[0m\u001b[0mx\u001b[0m\u001b[0;34m)\u001b[0m\u001b[0;34m\u001b[0m\u001b[0;34m\u001b[0m\u001b[0m\n\u001b[0m\u001b[1;32m      7\u001b[0m   \u001b[0;32mexcept\u001b[0m \u001b[0;34m(\u001b[0m\u001b[0mTypeError\u001b[0m\u001b[0;34m,\u001b[0m\u001b[0mNameError\u001b[0m\u001b[0;34m)\u001b[0m\u001b[0;34m:\u001b[0m\u001b[0;34m\u001b[0m\u001b[0;34m\u001b[0m\u001b[0m\n\u001b[1;32m      8\u001b[0m     \u001b[0mprint\u001b[0m\u001b[0;34m(\u001b[0m\u001b[0;34m\"I am ok with this!\"\u001b[0m\u001b[0;34m)\u001b[0m\u001b[0;34m\u001b[0m\u001b[0;34m\u001b[0m\u001b[0m\n",
            "\u001b[0;32m<ipython-input-5-53b14c3f06e3>\u001b[0m in \u001b[0;36mraise_exception\u001b[0;34m(x)\u001b[0m\n\u001b[1;32m      1\u001b[0m \u001b[0;32mdef\u001b[0m \u001b[0mraise_exception\u001b[0m\u001b[0;34m(\u001b[0m\u001b[0mx\u001b[0m\u001b[0;34m)\u001b[0m\u001b[0;34m:\u001b[0m\u001b[0;34m\u001b[0m\u001b[0;34m\u001b[0m\u001b[0m\n\u001b[0;32m----> 2\u001b[0;31m   \u001b[0;32mraise\u001b[0m \u001b[0mException\u001b[0m\u001b[0;34m(\u001b[0m\u001b[0;34m\"I am an Exception!!!\"\u001b[0m\u001b[0;34m)\u001b[0m\u001b[0;34m\u001b[0m\u001b[0;34m\u001b[0m\u001b[0m\n\u001b[0m\u001b[1;32m      3\u001b[0m \u001b[0;34m\u001b[0m\u001b[0m\n\u001b[1;32m      4\u001b[0m \u001b[0;32mdef\u001b[0m \u001b[0mcatcher\u001b[0m\u001b[0;34m(\u001b[0m\u001b[0mx\u001b[0m\u001b[0;34m)\u001b[0m\u001b[0;34m:\u001b[0m\u001b[0;34m\u001b[0m\u001b[0;34m\u001b[0m\u001b[0m\n\u001b[1;32m      5\u001b[0m   \u001b[0;32mtry\u001b[0m\u001b[0;34m:\u001b[0m\u001b[0;34m\u001b[0m\u001b[0;34m\u001b[0m\u001b[0m\n",
            "\u001b[0;31mException\u001b[0m: I am an Exception!!!"
          ]
        }
      ]
    },
    {
      "cell_type": "markdown",
      "metadata": {
        "id": "pxJwIAJn3L6p"
      },
      "source": [
        "logging模块：\r\n",
        "默认生成的root logger的level是logging.WARNING,低于该级别的就不输出了\r\n",
        "\r\n",
        "级别排序:CRITICAL > ERROR > WARNING > INFO > DEBUG\r\n",
        "debug : 打印全部的日志,详细的信息,通常只出现在诊断问题上\r\n",
        "\r\n",
        "info : 打印info,warning,error,critical级别的日志,确认一切按预期运行\r\n",
        "\r\n",
        "warning : 打印warning,error,critical级别的日志,一个迹象表明,一些意想不到的事情发生了,或表明一些问题在不久的将来(例如。磁盘空间低”),这个软件还能按预期工作\r\n",
        "\r\n",
        "error : 打印error,critical级别的日志,更严重的问题,软件没能执行一些功能\r\n",
        "\r\n",
        "critical : 打印critical级别,一个严重的错误,这表明程序本身可能无法继续运行\r\n",
        "\r\n",
        "这时候，如果需要显示低于WARNING级别的内容，可以引入NOTSET级别来显示：\r\n",
        "\r\n",
        "import logging  # 引入logging模块\r\n",
        "logging.basicConfig(level=logging.NOTSET)  # 设置日志级别\r\n",
        "logging.debug(u\"如果设置了日志级别为NOTSET,那么这里可以采取debug、info的级别的内容也可以显示在控制台上了\")"
      ]
    },
    {
      "cell_type": "code",
      "metadata": {
        "id": "6N1G0cbJ07Ti"
      },
      "source": [
        "import logging\r\n",
        "logging.info(\"This is some useful information.\")\r\n",
        "logging.warning(\"This is some warning!\")\r\n",
        "logging.error(\"Something went wrong!\")"
      ],
      "execution_count": null,
      "outputs": []
    },
    {
      "cell_type": "markdown",
      "metadata": {
        "id": "PBks_Ws84S-k"
      },
      "source": [
        "Python Class："
      ]
    },
    {
      "cell_type": "code",
      "metadata": {
        "id": "cQatZz1I3iJ_"
      },
      "source": [
        "class MyClass(object):\r\n",
        "  def __init__(self, x):\r\n",
        "    self.x = x\r\n",
        "  def __del__(self): # Warning: Perhaps a very bad idea!\r\n",
        "    print(\"I am gone\")\r\n"
      ],
      "execution_count": null,
      "outputs": []
    },
    {
      "cell_type": "code",
      "metadata": {
        "id": "JPuaDIUs40Mf",
        "colab": {
          "base_uri": "https://localhost:8080/"
        },
        "outputId": "2e5647c2-10d4-413c-aa22-0d4e76ff514f"
      },
      "source": [
        "my_class = MyClass(1)"
      ],
      "execution_count": null,
      "outputs": [
        {
          "output_type": "stream",
          "text": [
            "I am gone\n"
          ],
          "name": "stdout"
        }
      ]
    },
    {
      "cell_type": "code",
      "metadata": {
        "id": "aaXcfc7G460_",
        "colab": {
          "base_uri": "https://localhost:8080/"
        },
        "outputId": "d11e0466-11ac-421d-b926-32b9dd3fed9f"
      },
      "source": [
        "del my_class"
      ],
      "execution_count": null,
      "outputs": [
        {
          "output_type": "stream",
          "text": [
            "I am gone\n"
          ],
          "name": "stdout"
        }
      ]
    },
    {
      "cell_type": "code",
      "metadata": {
        "id": "fr1Mvxch5Fiu",
        "colab": {
          "base_uri": "https://localhost:8080/",
          "height": 165
        },
        "outputId": "c5e2d8ec-f568-4b71-da64-0069731bad0f"
      },
      "source": [
        "my_class"
      ],
      "execution_count": null,
      "outputs": [
        {
          "output_type": "error",
          "ename": "NameError",
          "evalue": "ignored",
          "traceback": [
            "\u001b[0;31m---------------------------------------------------------------------------\u001b[0m",
            "\u001b[0;31mNameError\u001b[0m                                 Traceback (most recent call last)",
            "\u001b[0;32m<ipython-input-5-3528c0db2c60>\u001b[0m in \u001b[0;36m<module>\u001b[0;34m()\u001b[0m\n\u001b[0;32m----> 1\u001b[0;31m \u001b[0mmy_class\u001b[0m\u001b[0;34m\u001b[0m\u001b[0;34m\u001b[0m\u001b[0m\n\u001b[0m",
            "\u001b[0;31mNameError\u001b[0m: name 'my_class' is not defined"
          ]
        }
      ]
    },
    {
      "cell_type": "code",
      "metadata": {
        "id": "5QxJVBOL5bxB"
      },
      "source": [
        "my_class_a = MyClass(1)\r\n",
        "#my_class_b = my_class_a\r\n",
        "#my_class_c = MyClass(1)"
      ],
      "execution_count": null,
      "outputs": []
    },
    {
      "cell_type": "code",
      "metadata": {
        "id": "m_0oMOrq5pjU"
      },
      "source": [
        "my_class_b.x = 2\r\n",
        "print(my_class_a.x)   # python = 为 对象引用"
      ],
      "execution_count": null,
      "outputs": []
    },
    {
      "cell_type": "code",
      "metadata": {
        "id": "Rftt7wGs6E_d"
      },
      "source": [
        "my_class_b == my_class_a"
      ],
      "execution_count": null,
      "outputs": []
    },
    {
      "cell_type": "code",
      "metadata": {
        "id": "JIeJn-YK6ONK",
        "colab": {
          "base_uri": "https://localhost:8080/"
        },
        "outputId": "aa5e1cf2-af08-46f5-f17a-589dcd1e5f2a"
      },
      "source": [
        "my_class_a = MyClass(1)\r\n",
        "my_class_c = MyClass(1)     #  为什么每一个赋值都会输出 I am gone.   del魔法函数。 MyClass新建对象，老对象被销毁，调用del函数，进而输出相关内容\r\n",
        "my_class_a == my_class_c"
      ],
      "execution_count": null,
      "outputs": [
        {
          "output_type": "stream",
          "text": [
            "I am gone\n",
            "I am gone\n"
          ],
          "name": "stdout"
        },
        {
          "output_type": "execute_result",
          "data": {
            "text/plain": [
              "False"
            ]
          },
          "metadata": {
            "tags": []
          },
          "execution_count": 8
        }
      ]
    },
    {
      "cell_type": "code",
      "metadata": {
        "id": "lkOYGsurUzQj",
        "colab": {
          "base_uri": "https://localhost:8080/"
        },
        "outputId": "d96671d3-2fdc-4c9f-eb93-adcaefb5fb46"
      },
      "source": [
        "from copy import deepcopy\r\n",
        "my_class_a = MyClass(1)\r\n",
        "my_class_b = deepcopy(my_class_a)\r\n",
        "my_class_b == my_class_a"
      ],
      "execution_count": null,
      "outputs": [
        {
          "output_type": "stream",
          "text": [
            "I am gone\n"
          ],
          "name": "stdout"
        },
        {
          "output_type": "execute_result",
          "data": {
            "text/plain": [
              "False"
            ]
          },
          "metadata": {
            "tags": []
          },
          "execution_count": 9
        }
      ]
    },
    {
      "cell_type": "code",
      "metadata": {
        "colab": {
          "base_uri": "https://localhost:8080/"
        },
        "id": "eAuGS_WFdy8C",
        "outputId": "eae83f56-00ad-4544-fb9f-e547dcc1a633"
      },
      "source": [
        "my_class_a = MyClass(1)\r\n",
        "my_class_b = my_class_a\r\n",
        "my_class_b == my_class_a"
      ],
      "execution_count": null,
      "outputs": [
        {
          "output_type": "stream",
          "text": [
            "I am gone\n",
            "I am gone\n"
          ],
          "name": "stdout"
        },
        {
          "output_type": "execute_result",
          "data": {
            "text/plain": [
              "True"
            ]
          },
          "metadata": {
            "tags": []
          },
          "execution_count": 10
        }
      ]
    },
    {
      "cell_type": "markdown",
      "metadata": {
        "id": "nCdBnll2eE3O"
      },
      "source": [
        "The Ghost Bus Incidence:\r\n",
        "List 作用域：全局"
      ]
    },
    {
      "cell_type": "code",
      "metadata": {
        "id": "XSK--YG0eC2r"
      },
      "source": [
        "class GhostBus:\r\n",
        "  def __init__(self,passengers =[]):\r\n",
        "    self.passengers = passengers \r\n",
        "\r\n",
        "  def pick(self, name):\r\n",
        "    self.passengers.append(name)\r\n",
        "\r\n",
        "  def drop(self,name):\r\n",
        "    self.passengers.remove(name)"
      ],
      "execution_count": null,
      "outputs": []
    },
    {
      "cell_type": "code",
      "metadata": {
        "colab": {
          "base_uri": "https://localhost:8080/"
        },
        "id": "HkXf7L4TfcZQ",
        "outputId": "74f5a037-fa48-4292-8085-5e36474aaa70"
      },
      "source": [
        "ghost_bus = GhostBus()\r\n",
        "ghost_bus.pick(\"b\")\r\n",
        "ghost_bus.passengers"
      ],
      "execution_count": null,
      "outputs": [
        {
          "output_type": "execute_result",
          "data": {
            "text/plain": [
              "['b', 'b', 'b']"
            ]
          },
          "metadata": {
            "tags": []
          },
          "execution_count": 16
        }
      ]
    },
    {
      "cell_type": "code",
      "metadata": {
        "id": "h7BXvecFgEEW"
      },
      "source": [
        "class GhostBus:\r\n",
        "  def __init__(self,passengers = None):\r\n",
        "    self.passengers = passengers \r\n",
        "\r\n",
        "  def pick(self, name):\r\n",
        "    self.passengers.append(name)\r\n",
        "\r\n",
        "  def drop(self,name):\r\n",
        "    self.passengers.remove(name)"
      ],
      "execution_count": null,
      "outputs": []
    },
    {
      "cell_type": "code",
      "metadata": {
        "colab": {
          "base_uri": "https://localhost:8080/"
        },
        "id": "enE2pDhMgIDT",
        "outputId": "b2a96beb-a3b1-4f83-b656-1f7f7913a109"
      },
      "source": [
        "ghost_bus = GhostBus([])\r\n",
        "ghost_bus.pick(\"b\")\r\n",
        "ghost_bus.passengers"
      ],
      "execution_count": null,
      "outputs": [
        {
          "output_type": "execute_result",
          "data": {
            "text/plain": [
              "['b']"
            ]
          },
          "metadata": {
            "tags": []
          },
          "execution_count": 21
        }
      ]
    },
    {
      "cell_type": "code",
      "metadata": {
        "colab": {
          "base_uri": "https://localhost:8080/"
        },
        "id": "kBoYyDqeiygM",
        "outputId": "364ebba4-5dea-4017-c148-d2616f984bb2"
      },
      "source": [
        "flist = [lambda x = i: x for i in range(5)]\r\n",
        "for f in flist:\r\n",
        "  print(f())"
      ],
      "execution_count": null,
      "outputs": [
        {
          "output_type": "stream",
          "text": [
            "0\n",
            "1\n",
            "2\n",
            "3\n",
            "4\n"
          ],
          "name": "stdout"
        }
      ]
    },
    {
      "cell_type": "markdown",
      "metadata": {
        "id": "KduuifMykXdj"
      },
      "source": [
        "List:"
      ]
    },
    {
      "cell_type": "code",
      "metadata": {
        "colab": {
          "base_uri": "https://localhost:8080/"
        },
        "id": "oU6vyrWgkWay",
        "outputId": "e15d6b85-5013-4d13-9eef-b8096230415a"
      },
      "source": [
        "matrix  = [[1,2],[3,4],[5,6],[7,8]]\r\n",
        "matrix"
      ],
      "execution_count": null,
      "outputs": [
        {
          "output_type": "execute_result",
          "data": {
            "text/plain": [
              "[[1, 2], [3, 4], [5, 6], [7, 8]]"
            ]
          },
          "metadata": {
            "tags": []
          },
          "execution_count": 30
        }
      ]
    },
    {
      "cell_type": "code",
      "metadata": {
        "colab": {
          "base_uri": "https://localhost:8080/"
        },
        "id": "x7rzCFg6oolN",
        "outputId": "6978072f-0944-4b29-d6e5-211b0bc764d0"
      },
      "source": [
        "transpose = [ [ row[i] for row in matrix ] for i in range(2) ]   # 列表表达式 ,转置\r\n",
        "transpose"
      ],
      "execution_count": 46,
      "outputs": [
        {
          "output_type": "execute_result",
          "data": {
            "text/plain": [
              "[[1, 3, 5, 7], [2, 4, 6, 8]]"
            ]
          },
          "metadata": {
            "tags": []
          },
          "execution_count": 46
        }
      ]
    },
    {
      "cell_type": "code",
      "metadata": {
        "colab": {
          "base_uri": "https://localhost:8080/"
        },
        "id": "T2pypQArpfMU",
        "outputId": "00c171e9-8298-4a0e-b9e4-f94bc838968f"
      },
      "source": [
        "a = list()\r\n",
        "for i in range(2):\r\n",
        "  print(matrix[i])\r\n",
        "  # a.append()\r\n",
        "  for j in range(4):\r\n",
        "    print(matrix[j][i])\r\n",
        "a    "
      ],
      "execution_count": 54,
      "outputs": [
        {
          "output_type": "stream",
          "text": [
            "[1, 2]\n",
            "1\n",
            "3\n",
            "5\n",
            "7\n",
            "[3, 4]\n",
            "2\n",
            "4\n",
            "6\n",
            "8\n"
          ],
          "name": "stdout"
        },
        {
          "output_type": "execute_result",
          "data": {
            "text/plain": [
              "[]"
            ]
          },
          "metadata": {
            "tags": []
          },
          "execution_count": 54
        }
      ]
    },
    {
      "cell_type": "code",
      "metadata": {
        "colab": {
          "base_uri": "https://localhost:8080/"
        },
        "id": "-iCz2gsmrRsm",
        "outputId": "202d2fab-baca-4cf8-b29c-443cd9250ba5"
      },
      "source": [
        "lista=[[1,2,3],[4,5,6],[7,8,9],[10,11,12]]  \r\n",
        " \r\n",
        "listb=[[r[col] for r in lista] for col in range(len(lista[0]))]  \r\n",
        "listb  "
      ],
      "execution_count": 40,
      "outputs": [
        {
          "output_type": "execute_result",
          "data": {
            "text/plain": [
              "[[1, 4, 7, 10], [2, 5, 8, 11], [3, 6, 9, 12]]"
            ]
          },
          "metadata": {
            "tags": []
          },
          "execution_count": 40
        }
      ]
    },
    {
      "cell_type": "code",
      "metadata": {
        "id": "NOmne-dNuRSp"
      },
      "source": [
        "#  NamedTuple\r\n",
        "\r\n",
        "from collections import namedtuple"
      ],
      "execution_count": 1,
      "outputs": []
    },
    {
      "cell_type": "code",
      "metadata": {
        "colab": {
          "base_uri": "https://localhost:8080/"
        },
        "id": "sKffIz4VL8_a",
        "outputId": "96ce739d-b4a3-4b52-acb9-c296e8b2742f"
      },
      "source": [
        "emp = namedtuple('Employee',['age','place','education'])\r\n",
        "tom = emp (age =10,place='beijing',education ='none')\r\n",
        "print(tom)"
      ],
      "execution_count": 2,
      "outputs": [
        {
          "output_type": "stream",
          "text": [
            "Employee(age=10, place='beijing', education='none')\n"
          ],
          "name": "stdout"
        }
      ]
    },
    {
      "cell_type": "code",
      "metadata": {
        "id": "641VhTLUMkiz"
      },
      "source": [
        ""
      ],
      "execution_count": null,
      "outputs": []
    },
    {
      "cell_type": "markdown",
      "metadata": {
        "id": "edbhEYN9MxzC"
      },
      "source": [
        "Common data structure :dataclass"
      ]
    },
    {
      "cell_type": "code",
      "metadata": {
        "id": "NokiiyJ_M8LE"
      },
      "source": [
        "from dataclasses import dataclass , field\r\n",
        "from typing import Optional"
      ],
      "execution_count": 4,
      "outputs": []
    },
    {
      "cell_type": "code",
      "metadata": {
        "id": "KVBKDrq7N2l_"
      },
      "source": [
        "@dataclass\r\n",
        "class MyDataClass:\r\n",
        "  name : str = field(\r\n",
        "      default = 'tom',\r\n",
        "      metadata = {'help':'Name of the person'}\r\n",
        "  )\r\n",
        "  age : Optional[int] = field(\r\n",
        "      default = None,\r\n",
        "      metadata = {'help':\"Age of the person, Optional.\"}\r\n",
        "\r\n",
        "  )\r\n",
        "  vip : int = field(\r\n",
        "      default = 100,\r\n",
        "      metadata = {'help':'Some very import field.'}\r\n",
        "  )\r\n",
        "\r\n",
        "  def __post_init__(self):\r\n",
        "    if self.vip <= 0:\r\n",
        "      raise Exception('That import thing has to be largerthan 0.')\r\n",
        "\r\n",
        "  @property\r\n",
        "  def age_type(self):\r\n",
        "    if self.age >= 100:\r\n",
        "      return 'You are old'\r\n",
        "    else:\r\n",
        "      return 'You are still young'\r\n"
      ],
      "execution_count": 6,
      "outputs": []
    },
    {
      "cell_type": "code",
      "metadata": {
        "colab": {
          "base_uri": "https://localhost:8080/"
        },
        "id": "4xhHBV5MPb2J",
        "outputId": "33514ba7-5960-44a7-e477-37219775fe55"
      },
      "source": [
        "my_data_class = MyDataClass(name ='jerry',age = 20)\r\n",
        "print(my_data_class)\r\n",
        "print(my_data_class.age)\r\n",
        "print(my_data_class.age_type)"
      ],
      "execution_count": 8,
      "outputs": [
        {
          "output_type": "stream",
          "text": [
            "MyDataClass(name='jerry', age=20, vip=100)\n",
            "20\n",
            "You are still young\n"
          ],
          "name": "stdout"
        }
      ]
    },
    {
      "cell_type": "markdown",
      "metadata": {
        "id": "gW71A0JxQyHa"
      },
      "source": [
        "Magic Functions in Python Object"
      ]
    },
    {
      "cell_type": "code",
      "metadata": {
        "id": "p4OFXS3AQvL_"
      },
      "source": [
        "class Vector:\r\n",
        "  def __init__(self, x=0,y =0):\r\n",
        "    self.x = x\r\n",
        "    self.y = y\r\n"
      ],
      "execution_count": 12,
      "outputs": []
    },
    {
      "cell_type": "code",
      "metadata": {
        "id": "6izT6PBKREHX"
      },
      "source": [
        "class Vector2:\r\n",
        "  def __init__(self,x=0,y=0):\r\n",
        "    self.x =x\r\n",
        "    self.y =y\r\n",
        "\r\n",
        "  def __repr__(self):\r\n",
        "    return 'Vector(%r,%r)' %(self.x,selbmf.y)\r\n",
        "  def __str__(self):\r\n",
        "    return 'Vector(%r,%r)' %(self.x,self.y)\r\n"
      ],
      "execution_count": 10,
      "outputs": []
    },
    {
      "cell_type": "code",
      "metadata": {
        "colab": {
          "base_uri": "https://localhost:8080/"
        },
        "id": "fEa0oLkeRq9E",
        "outputId": "567370b6-2d31-4f77-f6d5-b9101607b66c"
      },
      "source": [
        "v = Vector(1,2)\r\n",
        "print(v.x,v.y)\r\n",
        "print(v)"
      ],
      "execution_count": 14,
      "outputs": [
        {
          "output_type": "stream",
          "text": [
            "1 2\n",
            "<__main__.Vector object at 0x7fa724eef860>\n"
          ],
          "name": "stdout"
        }
      ]
    },
    {
      "cell_type": "code",
      "metadata": {
        "colab": {
          "base_uri": "https://localhost:8080/"
        },
        "id": "bi09JxwYR9BC",
        "outputId": "7c05a505-99c1-48c2-eb1f-0c7f2548e86e"
      },
      "source": [
        "v2 = Vector2(2,3)\r\n",
        "print(str(v2))\r\n",
        "print(v2)"
      ],
      "execution_count": 15,
      "outputs": [
        {
          "output_type": "stream",
          "text": [
            "Vector(2,3)\n",
            "Vector(2,3)\n"
          ],
          "name": "stdout"
        }
      ]
    },
    {
      "cell_type": "markdown",
      "metadata": {
        "id": "ot78cUYIShqH"
      },
      "source": [
        "Decorators: 装饰器\r\n",
        "       函数容器"
      ]
    },
    {
      "cell_type": "code",
      "metadata": {
        "id": "jy8jEt4YSrhh"
      },
      "source": [
        "import numpy as np\r\n",
        "def my_decorator(func):     #  函数容器\r\n",
        "  def my_decorator_impl(x):\r\n",
        "    result = x if x>0 else 0\r\n",
        "    return func(result)\r\n",
        "  return my_decorator_impl\r\n",
        "  \r\n",
        "@my_decorator\r\n",
        "def myfunc(x):\r\n",
        "  return np.sqrt(x)\r\n"
      ],
      "execution_count": 23,
      "outputs": []
    },
    {
      "cell_type": "code",
      "metadata": {
        "colab": {
          "base_uri": "https://localhost:8080/"
        },
        "id": "ZS9mdJlgTP9g",
        "outputId": "0393194b-5dfa-40c4-9ec6-ea95a2532407"
      },
      "source": [
        "myfunc(-1)"
      ],
      "execution_count": 25,
      "outputs": [
        {
          "output_type": "execute_result",
          "data": {
            "text/plain": [
              "0.0"
            ]
          },
          "metadata": {
            "tags": []
          },
          "execution_count": 25
        }
      ]
    },
    {
      "cell_type": "code",
      "metadata": {
        "id": "L7XlLbZfUifX"
      },
      "source": [
        "from functools import partial    # partial 函数的功能就是：把一个函数的某些参数给固定住，返回一个新的函数。\r\n",
        "def decor_impl(func,argument):\r\n",
        "  def impl(x):\r\n",
        "    result = x if x>argument else argument\r\n",
        "    return func(result)  \r\n",
        "  return impl\r\n"
      ],
      "execution_count": 40,
      "outputs": []
    },
    {
      "cell_type": "code",
      "metadata": {
        "id": "Xrz8jTx0VDtN"
      },
      "source": [
        "decor = partial(decor_impl,argument =2)\r\n",
        "@decor\r\n",
        "def myfunc(x):\r\n",
        "  return np.sqrt(x)"
      ],
      "execution_count": 41,
      "outputs": []
    },
    {
      "cell_type": "code",
      "metadata": {
        "colab": {
          "base_uri": "https://localhost:8080/"
        },
        "id": "Jx-Fj9wcVcq-",
        "outputId": "ba124f0d-2e8b-44f3-e16b-13ea32e90b84"
      },
      "source": [
        "myfunc(-1)"
      ],
      "execution_count": 42,
      "outputs": [
        {
          "output_type": "execute_result",
          "data": {
            "text/plain": [
              "1.4142135623730951"
            ]
          },
          "metadata": {
            "tags": []
          },
          "execution_count": 42
        }
      ]
    },
    {
      "cell_type": "code",
      "metadata": {
        "id": "zwBLQt-RWd6X"
      },
      "source": [
        "def para(dec):\r\n",
        "  def layer(*args,**kwargs):\r\n",
        "    def repl(f):\r\n",
        "      return dec(f,*args, **kwargs)\r\n",
        "    return repl\r\n",
        "  return layer\r\n",
        "\r\n",
        "@para\r\n",
        "def decor(f,n):\r\n",
        "  def impl(x):\r\n",
        "    result = x if x >n else 0\r\n",
        "    return f(result)\r\n",
        "  return impl\r\n",
        "\r\n",
        "@decor(0)\r\n",
        "def myfunc(x):\r\n",
        "  return np.sqrt(x)\r\n"
      ],
      "execution_count": 45,
      "outputs": []
    },
    {
      "cell_type": "code",
      "metadata": {
        "colab": {
          "base_uri": "https://localhost:8080/"
        },
        "id": "_2UTouxvY5Ga",
        "outputId": "81158ee1-8e93-40ba-89bb-c39abb4f6cc1"
      },
      "source": [
        "myfunc(-1)"
      ],
      "execution_count": 47,
      "outputs": [
        {
          "output_type": "execute_result",
          "data": {
            "text/plain": [
              "0.0"
            ]
          },
          "metadata": {
            "tags": []
          },
          "execution_count": 47
        }
      ]
    }
  ]
}